{
 "cells": [
  {
   "cell_type": "code",
   "execution_count": 8,
   "metadata": {},
   "outputs": [
    {
     "name": "stdout",
     "output_type": "stream",
     "text": [
      "We are playing a guessing game. Guess between 1 and 100.\n"
     ]
    }
   ],
   "source": [
    "import random\n",
    "random.randint(1,100)\n",
    "\n",
    "print(\"We are playing a guessing game. Guess between 1 and 100.\")\n",
    "made_guesses = []\n",
    "correct = False\n",
    "user_guess = (\"Please enter your guess. \")\n",
    "\n",
    "\n",
    "if random.randint(1,100) === user_guess:\n",
    "    correct = True\n",
    "else:\n",
    "    print(\"Please continue guessing.\")\n",
    "    user_guess =\n",
    "    made_guesses.append(user_guess)"
   ]
  },
  {
   "cell_type": "code",
   "execution_count": null,
   "metadata": {},
   "outputs": [],
   "source": []
  },
  {
   "cell_type": "code",
   "execution_count": null,
   "metadata": {},
   "outputs": [],
   "source": []
  }
 ],
 "metadata": {
  "kernelspec": {
   "display_name": "Python 3",
   "language": "python",
   "name": "python3"
  },
  "language_info": {
   "codemirror_mode": {
    "name": "ipython",
    "version": 3
   },
   "file_extension": ".py",
   "mimetype": "text/x-python",
   "name": "python",
   "nbconvert_exporter": "python",
   "pygments_lexer": "ipython3",
   "version": "3.7.1"
  }
 },
 "nbformat": 4,
 "nbformat_minor": 2
}
